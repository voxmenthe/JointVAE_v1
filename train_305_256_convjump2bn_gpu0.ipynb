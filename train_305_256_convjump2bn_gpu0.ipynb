{
 "cells": [
  {
   "cell_type": "markdown",
   "metadata": {},
   "source": [
    "# Train a JointVAE model"
   ]
  },
  {
   "cell_type": "code",
   "execution_count": 5,
   "metadata": {},
   "outputs": [],
   "source": [
    "%reload_ext autoreload\n",
    "%autoreload 2\n",
    "%matplotlib inline"
   ]
  },
  {
   "cell_type": "code",
   "execution_count": 6,
   "metadata": {},
   "outputs": [
    {
     "data": {
      "text/plain": [
       "True"
      ]
     },
     "execution_count": 6,
     "metadata": {},
     "output_type": "execute_result"
    }
   ],
   "source": [
    "import numpy as np\n",
    "import torch\n",
    "\n",
    "use_cuda = torch.cuda.is_available()\n",
    "use_cuda"
   ]
  },
  {
   "cell_type": "code",
   "execution_count": 7,
   "metadata": {},
   "outputs": [],
   "source": [
    "import os\n",
    "os.environ[\"CUDA_DEVICE_ORDER\"] = \"PCI_BUS_ID\"  # see issue #152\n",
    "os.environ[\"CUDA_VISIBLE_DEVICES\"] = \"0\"  # change to your device"
   ]
  },
  {
   "cell_type": "markdown",
   "metadata": {},
   "source": [
    "#### Prepare data list"
   ]
  },
  {
   "cell_type": "code",
   "execution_count": 8,
   "metadata": {},
   "outputs": [
    {
     "name": "stdout",
     "output_type": "stream",
     "text": [
      "dress_dresslen_train_test_splits.json\tloadable_women_primary_dress.csv\r\n",
      "dress_sleevelen_train_test_splits.json\trayimages.ipynb\r\n",
      "dress_sleeve_train_test_splits.json\r\n"
     ]
    }
   ],
   "source": [
    "!ls data"
   ]
  },
  {
   "cell_type": "markdown",
   "metadata": {},
   "source": [
    "#### dress sleeve data"
   ]
  },
  {
   "cell_type": "code",
   "execution_count": 9,
   "metadata": {},
   "outputs": [
    {
     "data": {
      "text/plain": [
       "dict_keys(['X_train_1', 'y_train_1', 'X_test_1', 'y_test_1', 'X_train_2', 'y_train_2', 'X_test_2', 'y_test_2', 'X_train_3', 'y_train_3', 'X_test_3', 'y_test_3', 'X_train_4', 'y_train_4', 'X_test_4', 'y_test_4', 'X_train_5', 'y_train_5', 'X_test_5', 'y_test_5', 'X_train_6', 'y_train_6', 'X_test_6', 'y_test_6', 'X_train_7', 'y_train_7', 'X_test_7', 'y_test_7', 'X_train_8', 'y_train_8', 'X_test_8', 'y_test_8', 'X_train_9', 'y_train_9', 'X_test_9', 'y_test_9', 'X_train_10', 'y_train_10', 'X_test_10', 'y_test_10'])"
      ]
     },
     "execution_count": 9,
     "metadata": {},
     "output_type": "execute_result"
    }
   ],
   "source": [
    "import json\n",
    "with open(\"./data/dress_sleeve_train_test_splits.json\", \"r\") as infile:\n",
    "    data_dict = json.load(infile)\n",
    "    \n",
    "data_dict.keys()"
   ]
  },
  {
   "cell_type": "code",
   "execution_count": 10,
   "metadata": {},
   "outputs": [
    {
     "name": "stdout",
     "output_type": "stream",
     "text": [
      "Number of train image paths: 207,603\n",
      "Number of test image paths: 23,067\n",
      "\n",
      "Sample paths:\n",
      "/home/jovyan/vmldata/raw_source_data/v20180810_all_wearables/2/8/2893552_3773662.jpg\n",
      "/home/jovyan/vmldata/raw_source_data/v20180810_all_wearables/2/7/2713940_3640098.jpg\n",
      "/home/jovyan/vmldata/raw_source_data/v20180810_all_wearables/2/8/2856150_3749586.jpg\n",
      "/home/jovyan/vmldata/raw_source_data/v20180810_all_wearables/3/0/3058817_8191784.jpg\n"
     ]
    }
   ],
   "source": [
    "image_paths_train = []\n",
    "image_paths_test = []\n",
    "\n",
    "root_data_dir = \"/home/jovyan/vmldata/raw_source_data/v20180810_all_wearables\"\n",
    "\n",
    "for key, val in data_dict.items():\n",
    "    if 'X_train' in key:\n",
    "        image_paths_train.extend([root_data_dir + imgpath for imgpath in val])\n",
    "    elif 'X_test' in key:\n",
    "        image_paths_test.extend([root_data_dir + imgpath for imgpath in val])\n",
    "\n",
    "print(f\"Number of train image paths: {len(image_paths_train):,d}\")\n",
    "print(f\"Number of test image paths: {len(image_paths_test):,d}\")\n",
    "print()\n",
    "print(\"Sample paths:\")\n",
    "print(image_paths_train[0])\n",
    "print(image_paths_train[-1])\n",
    "print(image_paths_test[0])\n",
    "print(image_paths_test[-1])"
   ]
  },
  {
   "cell_type": "markdown",
   "metadata": {},
   "source": [
    "#### loadable dresses data"
   ]
  },
  {
   "cell_type": "raw",
   "metadata": {},
   "source": [
    "loadable_dresses = list(np.loadtxt('data/loadable_women_primary_dress.csv',delimiter=',',skiprows=1,dtype='str'))"
   ]
  },
  {
   "cell_type": "raw",
   "metadata": {},
   "source": [
    "print(len(loadable_dresses))"
   ]
  },
  {
   "cell_type": "raw",
   "metadata": {},
   "source": [
    "loadable_dresses[:5]"
   ]
  },
  {
   "cell_type": "raw",
   "metadata": {},
   "source": [
    "bad_data = ['/home/jovyan/vmldata/raw_source_data/v20180810_all_wearables/7/2/723739_1342692.jpg']\n",
    "\n",
    "for bad in bad_data:\n",
    "    if bad in loadable_dresses:\n",
    "        del loadable_dresses[loadable_dresses.index(bad)]\n",
    "        \n",
    "print(len(loadable_dresses))"
   ]
  },
  {
   "cell_type": "raw",
   "metadata": {},
   "source": [
    "image_paths_train = loadable_dresses[:88800]\n",
    "image_paths_test = loadable_dresses[88800:-124]\n",
    "\n",
    "print(f\"Number of train image paths: {len(image_paths_train):,d}\")\n",
    "print(f\"Number of test image paths: {len(image_paths_test):,d}\")\n",
    "print()\n",
    "print(\"Sample paths:\")\n",
    "print(image_paths_train[0])\n",
    "print(image_paths_train[-1])\n",
    "print(image_paths_test[0])\n",
    "print(image_paths_test[-1])"
   ]
  },
  {
   "cell_type": "markdown",
   "metadata": {},
   "source": [
    "### Create data loaders"
   ]
  },
  {
   "cell_type": "code",
   "execution_count": 11,
   "metadata": {},
   "outputs": [],
   "source": [
    "from torchvision import transforms\n",
    "from utils.dataloader_tools import get_imagelist_dataloader, ImageListDataset\n",
    "\n",
    "BATCH_SIZE = 128\n",
    "\n",
    "composed = transforms.Compose([transforms.CenterCrop((256,256)),transforms.Resize((256,256)),transforms.ToTensor()])\n",
    "\n",
    "# convert rgb is for the cv2 loaded images that I've got in this dir\n",
    "train_dataset = ImageListDataset(image_paths_train, cut_from='top', cut_amount=256, transform=composed, \n",
    "                                 convert_rgb=False, error_handling=True)\n",
    "test_dataset = ImageListDataset(image_paths_test, cut_from='top', cut_amount=256, transform=composed, \n",
    "                                convert_rgb=False, error_handling=True)\n",
    "\n",
    "train_loader = get_imagelist_dataloader(batch_size=BATCH_SIZE, dataset_object=train_dataset)\n",
    "test_loader = get_imagelist_dataloader(batch_size=BATCH_SIZE, dataset_object=test_dataset)"
   ]
  },
  {
   "cell_type": "markdown",
   "metadata": {},
   "source": [
    "### Define latent distribution of the model"
   ]
  },
  {
   "cell_type": "code",
   "execution_count": 12,
   "metadata": {},
   "outputs": [],
   "source": [
    "# Latent distribution will be joint distribution of 10 gaussian normal distributions\n",
    "# and one 10 dimensional Gumbel Softmax distribution\n",
    "latent_spec = {'cont': 20, 'disc': [10, 10, 10]}"
   ]
  },
  {
   "cell_type": "markdown",
   "metadata": {},
   "source": [
    "### Build a model"
   ]
  },
  {
   "cell_type": "code",
   "execution_count": 14,
   "metadata": {},
   "outputs": [],
   "source": [
    "from jointvae.models_256_convjump2bn import VAE\n",
    "\n",
    "model = VAE(latent_spec=latent_spec, hidden_dim=512, img_size=(3, 256, 256), use_cuda=use_cuda)"
   ]
  },
  {
   "cell_type": "code",
   "execution_count": 15,
   "metadata": {},
   "outputs": [],
   "source": [
    "#print(model)"
   ]
  },
  {
   "cell_type": "markdown",
   "metadata": {},
   "source": [
    "### Train the model"
   ]
  },
  {
   "cell_type": "code",
   "execution_count": 16,
   "metadata": {},
   "outputs": [],
   "source": [
    "from torch import optim\n",
    "\n",
    "# Build optimizer\n",
    "optimizer = optim.Adam(model.parameters(), lr=3e-4, amsgrad=True) # added amsgrad # orig lr 5e-4"
   ]
  },
  {
   "cell_type": "code",
   "execution_count": 17,
   "metadata": {},
   "outputs": [],
   "source": [
    "from jointvae.training import Trainer\n",
    "#from jointvae.training_debug import Trainer\n",
    "\n",
    "# Define the capacities\n",
    "# Continuous channels\n",
    "cont_capacity = [0.0, 6, 25000, 36.0]  # Starting at a capacity of 0.0, increase this to 5.0\n",
    "                                         # over 25000 iterations with a gamma of 30.0\n",
    "# Discrete channels\n",
    "disc_capacity = [0.0, 6, 25000, 36.0]  # Starting at a capacity of 0.0, increase this to 5.0\n",
    "                                         # over 25000 iterations with a gamma of 30.0\n",
    "\n",
    "# Build a trainer\n",
    "trainer = Trainer(model, optimizer,\n",
    "                  cont_capacity=cont_capacity,\n",
    "                  disc_capacity=disc_capacity,\n",
    "                 use_cuda=use_cuda)"
   ]
  },
  {
   "cell_type": "markdown",
   "metadata": {},
   "source": [
    "#### Initialize visualizer"
   ]
  },
  {
   "cell_type": "code",
   "execution_count": 18,
   "metadata": {},
   "outputs": [],
   "source": [
    "#from viz.visualize import Visualizer\n",
    "from viz.visualize import Visualizer\n",
    "\n",
    "viz = Visualizer(model)\n",
    "viz.save_images = False # needed to add this so it returns a tensor"
   ]
  },
  {
   "cell_type": "raw",
   "metadata": {},
   "source": [
    "#from viz.visualize import Visualizer\n",
    "from viz.visualize_extra_v1 import Visualizer as Visualizer2\n",
    "\n",
    "viz2 = Visualizer2(model)\n",
    "viz2.save_images = False # needed to add this so it returns a tensor"
   ]
  },
  {
   "cell_type": "code",
   "execution_count": null,
   "metadata": {},
   "outputs": [
    {
     "name": "stdout",
     "output_type": "stream",
     "text": [
      "0/207603\tLoss: 45197.387\n",
      "6400/207603\tLoss: 43057.530\n",
      "12800/207603\tLoss: 32160.041\n",
      "19200/207603\tLoss: 26808.888\n",
      "25600/207603\tLoss: 22539.671\n",
      "32000/207603\tLoss: 18665.331\n",
      "38400/207603\tLoss: 17589.172\n",
      "44800/207603\tLoss: 17300.120\n",
      "51200/207603\tLoss: 16998.866\n",
      "57600/207603\tLoss: 16803.618\n",
      "64000/207603\tLoss: 16711.055\n",
      "70400/207603\tLoss: 16630.575\n",
      "76800/207603\tLoss: 16494.922\n",
      "83200/207603\tLoss: 16545.753\n",
      "89600/207603\tLoss: 16383.924\n",
      "96000/207603\tLoss: 16296.319\n",
      "102400/207603\tLoss: 16247.549\n",
      "108800/207603\tLoss: 16180.169\n",
      "115200/207603\tLoss: 16254.331\n",
      "121600/207603\tLoss: 16139.699\n",
      "128000/207603\tLoss: 16152.145\n",
      "134400/207603\tLoss: 15926.967\n",
      "140800/207603\tLoss: 15994.241\n",
      "147200/207603\tLoss: 15983.033\n",
      "153600/207603\tLoss: 15997.012\n",
      "160000/207603\tLoss: 15948.931\n",
      "166400/207603\tLoss: 16010.849\n",
      "172800/207603\tLoss: 15911.628\n",
      "179200/207603\tLoss: 15909.039\n",
      "185600/207603\tLoss: 15984.490\n",
      "192000/207603\tLoss: 15741.497\n",
      "198400/207603\tLoss: 15771.574\n",
      "204800/207603\tLoss: 15785.319\n",
      "Epoch: 1 Average loss: 18203.69\n",
      "0/207603\tLoss: 15788.205\n",
      "6400/207603\tLoss: 15808.663\n",
      "12800/207603\tLoss: 15709.519\n",
      "19200/207603\tLoss: 15769.666\n",
      "25600/207603\tLoss: 15775.415\n",
      "32000/207603\tLoss: 15830.369\n",
      "38400/207603\tLoss: 15858.707\n",
      "44800/207603\tLoss: 15821.518\n",
      "51200/207603\tLoss: 15804.616\n",
      "57600/207603\tLoss: 15759.955\n",
      "64000/207603\tLoss: 15656.548\n",
      "70400/207603\tLoss: 15594.824\n",
      "76800/207603\tLoss: 15671.557\n",
      "83200/207603\tLoss: 15674.595\n",
      "89600/207603\tLoss: 15644.112\n",
      "96000/207603\tLoss: 15640.131\n",
      "102400/207603\tLoss: 15533.589\n",
      "108800/207603\tLoss: 15605.256\n",
      "115200/207603\tLoss: 15627.380\n",
      "121600/207603\tLoss: 15624.739\n",
      "128000/207603\tLoss: 15584.042\n",
      "134400/207603\tLoss: 15494.412\n",
      "140800/207603\tLoss: 15496.172\n",
      "147200/207603\tLoss: 15477.537\n",
      "153600/207603\tLoss: 15543.038\n",
      "160000/207603\tLoss: 15359.926\n",
      "166400/207603\tLoss: 15524.536\n",
      "172800/207603\tLoss: 15469.038\n",
      "179200/207603\tLoss: 15463.403\n",
      "185600/207603\tLoss: 15436.280\n",
      "192000/207603\tLoss: 15533.961\n",
      "198400/207603\tLoss: 15494.150\n",
      "204800/207603\tLoss: 15422.500\n",
      "Epoch: 2 Average loss: 15614.31\n",
      "0/207603\tLoss: 15813.889\n",
      "6400/207603\tLoss: 15463.564\n",
      "12800/207603\tLoss: 15437.898\n",
      "19200/207603\tLoss: 15430.576\n",
      "25600/207603\tLoss: 15344.304\n",
      "32000/207603\tLoss: 15471.428\n",
      "38400/207603\tLoss: 15469.255\n",
      "44800/207603\tLoss: 15325.040\n",
      "51200/207603\tLoss: 15449.177\n",
      "57600/207603\tLoss: 15293.365\n",
      "64000/207603\tLoss: 15428.203\n",
      "70400/207603\tLoss: 15330.490\n",
      "76800/207603\tLoss: 15501.362\n",
      "83200/207603\tLoss: 15348.931\n",
      "89600/207603\tLoss: 15305.563\n",
      "96000/207603\tLoss: 15394.734\n",
      "102400/207603\tLoss: 15352.305\n",
      "108800/207603\tLoss: 15401.776\n",
      "115200/207603\tLoss: 15331.816\n",
      "121600/207603\tLoss: 15346.016\n",
      "128000/207603\tLoss: 15392.507\n",
      "134400/207603\tLoss: 15310.573\n",
      "140800/207603\tLoss: 15206.036\n",
      "147200/207603\tLoss: 15399.195\n",
      "153600/207603\tLoss: 15330.306\n",
      "160000/207603\tLoss: 15298.493\n",
      "166400/207603\tLoss: 15296.158\n",
      "172800/207603\tLoss: 15402.689\n",
      "179200/207603\tLoss: 15352.038\n",
      "185600/207603\tLoss: 15298.686\n",
      "192000/207603\tLoss: 15265.083\n",
      "198400/207603\tLoss: 15317.331\n",
      "204800/207603\tLoss: 15266.415\n",
      "Epoch: 3 Average loss: 15361.75\n",
      "0/207603\tLoss: 14883.885\n",
      "6400/207603\tLoss: 15290.454\n",
      "12800/207603\tLoss: 15259.365\n",
      "19200/207603\tLoss: 15287.357\n",
      "25600/207603\tLoss: 15276.449\n",
      "32000/207603\tLoss: 15361.425\n",
      "38400/207603\tLoss: 15208.674\n",
      "44800/207603\tLoss: 15223.197\n",
      "51200/207603\tLoss: 15346.530\n",
      "57600/207603\tLoss: 15241.205\n",
      "64000/207603\tLoss: 15303.385\n",
      "70400/207603\tLoss: 15130.014\n",
      "76800/207603\tLoss: 15282.913\n",
      "83200/207603\tLoss: 15246.060\n",
      "89600/207603\tLoss: 15241.517\n",
      "96000/207603\tLoss: 15106.170\n",
      "102400/207603\tLoss: 15178.937\n",
      "108800/207603\tLoss: 15223.157\n",
      "115200/207603\tLoss: 15204.973\n",
      "121600/207603\tLoss: 15220.369\n",
      "128000/207603\tLoss: 15120.312\n",
      "134400/207603\tLoss: 15172.473\n",
      "140800/207603\tLoss: 15242.890\n",
      "147200/207603\tLoss: 15102.680\n",
      "153600/207603\tLoss: 15222.181\n",
      "160000/207603\tLoss: 15205.036\n",
      "166400/207603\tLoss: 15173.489\n",
      "172800/207603\tLoss: 14985.715\n",
      "179200/207603\tLoss: 15096.329\n",
      "185600/207603\tLoss: 15247.194\n",
      "192000/207603\tLoss: 15120.803\n",
      "198400/207603\tLoss: 15170.741\n",
      "204800/207603\tLoss: 15167.159\n",
      "Epoch: 4 Average loss: 15206.59\n",
      "0/207603\tLoss: 15170.216\n",
      "6400/207603\tLoss: 15128.307\n",
      "12800/207603\tLoss: 15104.456\n",
      "19200/207603\tLoss: 15062.899\n",
      "25600/207603\tLoss: 15107.029\n",
      "32000/207603\tLoss: 15174.485\n",
      "38400/207603\tLoss: 15126.087\n",
      "44800/207603\tLoss: 15161.357\n",
      "51200/207603\tLoss: 15211.392\n",
      "57600/207603\tLoss: 15121.323\n",
      "64000/207603\tLoss: 15167.501\n",
      "70400/207603\tLoss: 15081.236\n",
      "76800/207603\tLoss: 15033.295\n",
      "83200/207603\tLoss: 15103.596\n",
      "89600/207603\tLoss: 15141.181\n",
      "96000/207603\tLoss: 15116.701\n",
      "102400/207603\tLoss: 15154.168\n",
      "108800/207603\tLoss: 15024.468\n",
      "115200/207603\tLoss: 15094.767\n",
      "121600/207603\tLoss: 15097.603\n",
      "128000/207603\tLoss: 15108.375\n",
      "134400/207603\tLoss: 15125.728\n",
      "140800/207603\tLoss: 15040.037\n",
      "147200/207603\tLoss: 15101.497\n",
      "153600/207603\tLoss: 15034.553\n",
      "160000/207603\tLoss: 15073.544\n",
      "166400/207603\tLoss: 15001.949\n",
      "172800/207603\tLoss: 15075.944\n",
      "179200/207603\tLoss: 15025.873\n",
      "185600/207603\tLoss: 15095.139\n",
      "192000/207603\tLoss: 15017.395\n",
      "198400/207603\tLoss: 15089.604\n",
      "204800/207603\tLoss: 15111.831\n",
      "Epoch: 5 Average loss: 15096.30\n",
      "0/207603\tLoss: 15316.534\n",
      "6400/207603\tLoss: 15124.375\n",
      "12800/207603\tLoss: 15069.563\n",
      "19200/207603\tLoss: 14993.880\n",
      "25600/207603\tLoss: 15086.049\n",
      "32000/207603\tLoss: 15063.211\n",
      "38400/207603\tLoss: 14968.041\n",
      "44800/207603\tLoss: 15024.291\n",
      "51200/207603\tLoss: 14966.936\n",
      "57600/207603\tLoss: 14989.293\n",
      "64000/207603\tLoss: 15103.658\n",
      "70400/207603\tLoss: 14963.586\n",
      "76800/207603\tLoss: 15060.072\n",
      "83200/207603\tLoss: 14942.192\n",
      "89600/207603\tLoss: 14999.168\n",
      "96000/207603\tLoss: 14963.871\n",
      "102400/207603\tLoss: 15060.858\n",
      "108800/207603\tLoss: 15018.361\n",
      "115200/207603\tLoss: 15088.088\n",
      "121600/207603\tLoss: 15020.861\n",
      "128000/207603\tLoss: 14926.413\n",
      "134400/207603\tLoss: 15056.360\n",
      "140800/207603\tLoss: 14957.861\n",
      "147200/207603\tLoss: 14947.486\n",
      "153600/207603\tLoss: 14928.785\n",
      "160000/207603\tLoss: 15031.151\n",
      "166400/207603\tLoss: 14980.102\n",
      "172800/207603\tLoss: 14979.830\n",
      "179200/207603\tLoss: 14986.228\n",
      "185600/207603\tLoss: 14977.637\n",
      "192000/207603\tLoss: 15050.233\n",
      "198400/207603\tLoss: 14888.460\n",
      "204800/207603\tLoss: 15021.614\n",
      "Epoch: 6 Average loss: 15009.24\n",
      "0/207603\tLoss: 14183.708\n",
      "6400/207603\tLoss: 14984.740\n",
      "12800/207603\tLoss: 14940.848\n",
      "19200/207603\tLoss: 14965.851\n",
      "25600/207603\tLoss: 14974.844\n",
      "32000/207603\tLoss: 14983.751\n",
      "38400/207603\tLoss: 14974.163\n",
      "44800/207603\tLoss: 14928.636\n",
      "51200/207603\tLoss: 14935.097\n",
      "57600/207603\tLoss: 15023.713\n",
      "64000/207603\tLoss: 14994.569\n",
      "70400/207603\tLoss: 14953.878\n",
      "76800/207603\tLoss: 14926.275\n",
      "83200/207603\tLoss: 14898.000\n",
      "89600/207603\tLoss: 14926.861\n",
      "96000/207603\tLoss: 15004.974\n",
      "102400/207603\tLoss: 14908.072\n",
      "108800/207603\tLoss: 14979.589\n",
      "115200/207603\tLoss: 14943.977\n",
      "121600/207603\tLoss: 14964.384\n",
      "128000/207603\tLoss: 14905.655\n",
      "134400/207603\tLoss: 14874.457\n",
      "140800/207603\tLoss: 14969.572\n",
      "147200/207603\tLoss: 14987.491\n",
      "153600/207603\tLoss: 14940.604\n",
      "160000/207603\tLoss: 14889.071\n",
      "166400/207603\tLoss: 14911.220\n",
      "172800/207603\tLoss: 14969.011\n",
      "179200/207603\tLoss: 14916.934\n",
      "192000/207603\tLoss: 14930.974\n",
      "198400/207603\tLoss: 14915.295\n",
      "204800/207603\tLoss: 14816.243\n",
      "Epoch: 7 Average loss: 14943.44\n",
      "0/207603\tLoss: 14940.653\n",
      "6400/207603\tLoss: 14903.822\n",
      "12800/207603\tLoss: 14949.814\n",
      "19200/207603\tLoss: 15009.771\n",
      "25600/207603\tLoss: 14883.606\n",
      "32000/207603\tLoss: 14878.133\n",
      "38400/207603\tLoss: 14944.786\n",
      "44800/207603\tLoss: 14945.210\n",
      "51200/207603\tLoss: 14880.260\n",
      "57600/207603\tLoss: 14835.695\n",
      "64000/207603\tLoss: 14830.341\n",
      "70400/207603\tLoss: 14925.408\n",
      "76800/207603\tLoss: 14890.369\n",
      "83200/207603\tLoss: 14906.595\n",
      "89600/207603\tLoss: 14876.404\n",
      "96000/207603\tLoss: 14870.457\n",
      "102400/207603\tLoss: 14892.077\n",
      "108800/207603\tLoss: 14898.880\n",
      "115200/207603\tLoss: 14829.000\n",
      "121600/207603\tLoss: 14926.135\n",
      "128000/207603\tLoss: 14796.892\n",
      "134400/207603\tLoss: 14823.763\n",
      "140800/207603\tLoss: 14872.736\n",
      "147200/207603\tLoss: 14873.270\n",
      "153600/207603\tLoss: 14872.195\n",
      "160000/207603\tLoss: 14842.668\n",
      "166400/207603\tLoss: 14852.060\n",
      "172800/207603\tLoss: 14830.507\n",
      "179200/207603\tLoss: 14876.322\n",
      "185600/207603\tLoss: 14811.820\n",
      "192000/207603\tLoss: 14877.990\n",
      "198400/207603\tLoss: 14871.414\n",
      "204800/207603\tLoss: 14928.724\n",
      "Epoch: 8 Average loss: 14881.16\n",
      "0/207603\tLoss: 15089.250\n",
      "6400/207603\tLoss: 14776.414\n",
      "12800/207603\tLoss: 14922.620\n",
      "19200/207603\tLoss: 14867.729\n",
      "25600/207603\tLoss: 14790.305\n",
      "32000/207603\tLoss: 14867.190\n",
      "38400/207603\tLoss: 14820.631\n",
      "44800/207603\tLoss: 14892.325\n"
     ]
    },
    {
     "name": "stdout",
     "output_type": "stream",
     "text": [
      "51200/207603\tLoss: 14859.957\n",
      "57600/207603\tLoss: 14859.002\n",
      "64000/207603\tLoss: 14832.520\n",
      "70400/207603\tLoss: 14847.982\n",
      "76800/207603\tLoss: 14865.501\n",
      "83200/207603\tLoss: 14866.441\n",
      "89600/207603\tLoss: 14850.268\n",
      "96000/207603\tLoss: 14904.170\n",
      "102400/207603\tLoss: 14825.392\n",
      "108800/207603\tLoss: 14809.189\n",
      "115200/207603\tLoss: 14820.533\n",
      "121600/207603\tLoss: 14817.303\n",
      "128000/207603\tLoss: 14714.156\n",
      "134400/207603\tLoss: 14799.925\n",
      "140800/207603\tLoss: 14729.967\n",
      "147200/207603\tLoss: 14824.216\n",
      "153600/207603\tLoss: 14864.994\n",
      "160000/207603\tLoss: 14865.154\n",
      "166400/207603\tLoss: 14873.135\n",
      "172800/207603\tLoss: 14838.492\n",
      "179200/207603\tLoss: 14824.087\n",
      "185600/207603\tLoss: 14765.870\n",
      "192000/207603\tLoss: 14762.681\n",
      "198400/207603\tLoss: 14757.890\n",
      "204800/207603\tLoss: 14798.939\n",
      "Epoch: 9 Average loss: 14828.83\n",
      "0/207603\tLoss: 15183.146\n",
      "6400/207603\tLoss: 14836.709\n",
      "12800/207603\tLoss: 14861.660\n",
      "19200/207603\tLoss: 14882.584\n",
      "25600/207603\tLoss: 14836.570\n",
      "32000/207603\tLoss: 14728.736\n",
      "38400/207603\tLoss: 14859.909\n",
      "44800/207603\tLoss: 14846.331\n",
      "51200/207603\tLoss: 14813.598\n",
      "57600/207603\tLoss: 14769.003\n",
      "64000/207603\tLoss: 14728.949\n",
      "70400/207603\tLoss: 14841.557\n",
      "76800/207603\tLoss: 14763.028\n",
      "83200/207603\tLoss: 14842.786\n",
      "89600/207603\tLoss: 14781.321\n",
      "96000/207603\tLoss: 14743.296\n",
      "102400/207603\tLoss: 14849.449\n",
      "108800/207603\tLoss: 14743.813\n",
      "115200/207603\tLoss: 14765.303\n",
      "121600/207603\tLoss: 14768.939\n",
      "128000/207603\tLoss: 14808.970\n",
      "134400/207603\tLoss: 14770.975\n",
      "140800/207603\tLoss: 14802.160\n",
      "147200/207603\tLoss: 14699.601\n",
      "153600/207603\tLoss: 14714.895\n",
      "160000/207603\tLoss: 14847.946\n",
      "166400/207603\tLoss: 14744.698\n",
      "172800/207603\tLoss: 14739.834\n",
      "179200/207603\tLoss: 14780.794\n",
      "185600/207603\tLoss: 14685.719\n",
      "192000/207603\tLoss: 14776.024\n",
      "198400/207603\tLoss: 14647.184\n",
      "204800/207603\tLoss: 14692.897\n",
      "Epoch: 10 Average loss: 14781.37\n",
      "0/207603\tLoss: 14880.611\n",
      "6400/207603\tLoss: 14763.040\n",
      "12800/207603\tLoss: 14757.959\n",
      "19200/207603\tLoss: 14693.918\n",
      "25600/207603\tLoss: 14803.608\n",
      "32000/207603\tLoss: 14726.951\n",
      "38400/207603\tLoss: 14726.230\n",
      "44800/207603\tLoss: 14762.163\n",
      "51200/207603\tLoss: 14737.829\n",
      "57600/207603\tLoss: 14666.182\n",
      "64000/207603\tLoss: 14703.479\n",
      "70400/207603\tLoss: 14759.292\n",
      "76800/207603\tLoss: 14695.286\n",
      "83200/207603\tLoss: 14738.999\n",
      "89600/207603\tLoss: 14782.102\n",
      "96000/207603\tLoss: 14750.042\n",
      "102400/207603\tLoss: 14857.718\n",
      "108800/207603\tLoss: 14690.166\n",
      "115200/207603\tLoss: 14748.885\n",
      "121600/207603\tLoss: 14651.686\n",
      "128000/207603\tLoss: 14721.067\n",
      "134400/207603\tLoss: 14772.123\n",
      "140800/207603\tLoss: 14781.619\n",
      "147200/207603\tLoss: 14771.334\n",
      "153600/207603\tLoss: 14663.142\n",
      "160000/207603\tLoss: 14710.159\n",
      "166400/207603\tLoss: 14706.383\n",
      "172800/207603\tLoss: 14665.675\n",
      "179200/207603\tLoss: 14754.244\n",
      "185600/207603\tLoss: 14746.009\n",
      "192000/207603\tLoss: 14747.781\n",
      "198400/207603\tLoss: 14683.362\n",
      "204800/207603\tLoss: 14724.069\n",
      "Epoch: 11 Average loss: 14736.31\n",
      "0/207603\tLoss: 14952.058\n",
      "6400/207603\tLoss: 14582.891\n",
      "12800/207603\tLoss: 14717.272\n",
      "19200/207603\tLoss: 14818.889\n",
      "25600/207603\tLoss: 14705.107\n",
      "32000/207603\tLoss: 14701.920\n",
      "38400/207603\tLoss: 14734.174\n",
      "44800/207603\tLoss: 14732.611\n",
      "51200/207603\tLoss: 14736.307\n",
      "57600/207603\tLoss: 14686.943\n",
      "64000/207603\tLoss: 14621.003\n",
      "70400/207603\tLoss: 14804.572\n",
      "76800/207603\tLoss: 14735.053\n",
      "83200/207603\tLoss: 14778.856\n",
      "89600/207603\tLoss: 14695.382\n",
      "96000/207603\tLoss: 14733.757\n",
      "102400/207603\tLoss: 14703.263\n",
      "108800/207603\tLoss: 14701.505\n",
      "115200/207603\tLoss: 14701.014\n",
      "121600/207603\tLoss: 14639.763\n",
      "128000/207603\tLoss: 14655.603\n",
      "134400/207603\tLoss: 14725.611\n",
      "140800/207603\tLoss: 14693.576\n",
      "147200/207603\tLoss: 14682.138\n",
      "153600/207603\tLoss: 14685.666\n",
      "160000/207603\tLoss: 14685.482\n",
      "166400/207603\tLoss: 14659.122\n",
      "172800/207603\tLoss: 14708.815\n",
      "179200/207603\tLoss: 14626.622\n",
      "185600/207603\tLoss: 14633.242\n",
      "192000/207603\tLoss: 14676.419\n",
      "198400/207603\tLoss: 14650.218\n",
      "204800/207603\tLoss: 14618.423\n",
      "Epoch: 12 Average loss: 14696.25\n",
      "0/207603\tLoss: 14233.045\n",
      "6400/207603\tLoss: 14713.942\n",
      "12800/207603\tLoss: 14696.853\n",
      "19200/207603\tLoss: 14733.058\n",
      "25600/207603\tLoss: 14661.747\n",
      "32000/207603\tLoss: 14592.173\n",
      "38400/207603\tLoss: 14713.292\n",
      "44800/207603\tLoss: 14712.384\n",
      "51200/207603\tLoss: 14683.442\n",
      "57600/207603\tLoss: 14714.774\n",
      "64000/207603\tLoss: 14642.597\n",
      "70400/207603\tLoss: 14737.118\n",
      "76800/207603\tLoss: 14644.564\n",
      "83200/207603\tLoss: 14622.568\n",
      "89600/207603\tLoss: 14663.859\n",
      "96000/207603\tLoss: 14665.204\n",
      "102400/207603\tLoss: 14590.368\n",
      "108800/207603\tLoss: 14607.469\n",
      "115200/207603\tLoss: 14687.566\n",
      "121600/207603\tLoss: 14634.427\n",
      "128000/207603\tLoss: 14720.040\n",
      "134400/207603\tLoss: 14610.087\n",
      "140800/207603\tLoss: 14712.465\n",
      "147200/207603\tLoss: 14625.042\n",
      "153600/207603\tLoss: 14691.678\n",
      "160000/207603\tLoss: 14580.742\n",
      "166400/207603\tLoss: 14684.031\n",
      "172800/207603\tLoss: 14638.883\n",
      "179200/207603\tLoss: 14642.303\n",
      "185600/207603\tLoss: 14665.383\n",
      "192000/207603\tLoss: 14589.541\n",
      "198400/207603\tLoss: 14592.883\n",
      "204800/207603\tLoss: 14627.865\n",
      "Epoch: 13 Average loss: 14658.93\n",
      "0/207603\tLoss: 14604.207\n",
      "6400/207603\tLoss: 14577.912\n",
      "12800/207603\tLoss: 14673.006\n",
      "19200/207603\tLoss: 14656.430\n",
      "25600/207603\tLoss: 14617.183\n",
      "32000/207603\tLoss: 14636.641\n",
      "38400/207603\tLoss: 14711.336\n",
      "44800/207603\tLoss: 14586.889\n",
      "51200/207603\tLoss: 14607.180\n",
      "57600/207603\tLoss: 14565.352\n",
      "64000/207603\tLoss: 14659.478\n",
      "70400/207603\tLoss: 14621.213\n",
      "76800/207603\tLoss: 14647.513\n",
      "83200/207603\tLoss: 14634.602\n",
      "89600/207603\tLoss: 14581.526\n",
      "96000/207603\tLoss: 14688.210\n",
      "102400/207603\tLoss: 14598.886\n",
      "108800/207603\tLoss: 14549.727\n",
      "115200/207603\tLoss: 14632.578\n",
      "121600/207603\tLoss: 14658.859\n",
      "128000/207603\tLoss: 14645.156\n",
      "134400/207603\tLoss: 14669.706\n",
      "140800/207603\tLoss: 14655.204\n",
      "147200/207603\tLoss: 14640.087\n",
      "153600/207603\tLoss: 14638.636\n",
      "160000/207603\tLoss: 14613.845\n",
      "166400/207603\tLoss: 14603.110\n",
      "172800/207603\tLoss: 14717.471\n",
      "179200/207603\tLoss: 14577.197\n",
      "185600/207603\tLoss: 14659.134\n",
      "192000/207603\tLoss: 14596.317\n",
      "198400/207603\tLoss: 14574.024\n",
      "204800/207603\tLoss: 14547.582\n",
      "Epoch: 14 Average loss: 14625.67\n",
      "0/207603\tLoss: 13802.267\n",
      "6400/207603\tLoss: 14638.572\n",
      "12800/207603\tLoss: 14528.289\n",
      "19200/207603\tLoss: 14562.994\n",
      "25600/207603\tLoss: 14610.280\n",
      "32000/207603\tLoss: 14557.360\n",
      "38400/207603\tLoss: 14584.408\n",
      "44800/207603\tLoss: 14649.216\n",
      "51200/207603\tLoss: 14627.621\n",
      "57600/207603\tLoss: 14664.136\n",
      "64000/207603\tLoss: 14568.109\n",
      "70400/207603\tLoss: 14578.512\n",
      "76800/207603\tLoss: 14578.342\n",
      "83200/207603\tLoss: 14652.304\n",
      "89600/207603\tLoss: 14617.549\n",
      "96000/207603\tLoss: 14576.944\n",
      "102400/207603\tLoss: 14606.192\n",
      "108800/207603\tLoss: 14611.719\n",
      "115200/207603\tLoss: 14531.315\n",
      "121600/207603\tLoss: 14613.249\n",
      "128000/207603\tLoss: 14555.625\n",
      "134400/207603\tLoss: 14627.973\n",
      "140800/207603\tLoss: 14607.008\n",
      "147200/207603\tLoss: 14599.621\n",
      "153600/207603\tLoss: 14533.092\n",
      "160000/207603\tLoss: 14595.506\n",
      "166400/207603\tLoss: 14614.955\n",
      "172800/207603\tLoss: 14538.655\n",
      "179200/207603\tLoss: 14608.453\n",
      "185600/207603\tLoss: 14627.639\n",
      "192000/207603\tLoss: 14567.433\n",
      "198400/207603\tLoss: 14573.037\n",
      "204800/207603\tLoss: 14637.098\n",
      "Epoch: 15 Average loss: 14596.05\n",
      "0/207603\tLoss: 14062.113\n",
      "6400/207603\tLoss: 14634.711\n",
      "12800/207603\tLoss: 14537.976\n",
      "19200/207603\tLoss: 14587.765\n",
      "25600/207603\tLoss: 14515.836\n",
      "32000/207603\tLoss: 14579.228\n",
      "38400/207603\tLoss: 14609.997\n",
      "44800/207603\tLoss: 14590.498\n",
      "51200/207603\tLoss: 14571.727\n",
      "57600/207603\tLoss: 14635.386\n",
      "64000/207603\tLoss: 14534.711\n",
      "70400/207603\tLoss: 14630.913\n",
      "76800/207603\tLoss: 14660.742\n",
      "83200/207603\tLoss: 14617.218\n",
      "89600/207603\tLoss: 14585.112\n",
      "96000/207603\tLoss: 14539.323\n",
      "102400/207603\tLoss: 14552.372\n",
      "108800/207603\tLoss: 14500.332\n",
      "115200/207603\tLoss: 14653.507\n",
      "121600/207603\tLoss: 14546.934\n",
      "128000/207603\tLoss: 14572.102\n",
      "134400/207603\tLoss: 14509.287\n",
      "140800/207603\tLoss: 14492.878\n",
      "147200/207603\tLoss: 14537.663\n",
      "153600/207603\tLoss: 14560.649\n",
      "160000/207603\tLoss: 14496.525\n",
      "166400/207603\tLoss: 14520.852\n",
      "172800/207603\tLoss: 14618.149\n",
      "179200/207603\tLoss: 14591.648\n",
      "185600/207603\tLoss: 14518.856\n",
      "192000/207603\tLoss: 14598.926\n",
      "198400/207603\tLoss: 14556.730\n",
      "204800/207603\tLoss: 14600.743\n",
      "Epoch: 16 Average loss: 14571.15\n",
      "0/207603\tLoss: 14126.521\n",
      "6400/207603\tLoss: 14579.934\n",
      "12800/207603\tLoss: 14605.833\n",
      "19200/207603\tLoss: 14614.949\n",
      "25600/207603\tLoss: 14525.776\n",
      "32000/207603\tLoss: 14542.515\n",
      "38400/207603\tLoss: 14511.817\n",
      "44800/207603\tLoss: 14571.224\n",
      "51200/207603\tLoss: 14489.422\n",
      "57600/207603\tLoss: 14471.775\n",
      "64000/207603\tLoss: 14650.041\n",
      "70400/207603\tLoss: 14588.321\n",
      "76800/207603\tLoss: 14575.127\n",
      "83200/207603\tLoss: 14577.557\n",
      "89600/207603\tLoss: 14571.023\n"
     ]
    },
    {
     "name": "stdout",
     "output_type": "stream",
     "text": [
      "96000/207603\tLoss: 14467.440\n",
      "102400/207603\tLoss: 14510.698\n",
      "108800/207603\tLoss: 14533.297\n",
      "115200/207603\tLoss: 14493.212\n",
      "121600/207603\tLoss: 14648.884\n",
      "128000/207603\tLoss: 14544.169\n",
      "134400/207603\tLoss: 14625.845\n",
      "140800/207603\tLoss: 14555.739\n",
      "147200/207603\tLoss: 14516.435\n",
      "153600/207603\tLoss: 14536.155\n",
      "160000/207603\tLoss: 14569.786\n",
      "166400/207603\tLoss: 14491.980\n",
      "172800/207603\tLoss: 14554.893\n",
      "179200/207603\tLoss: 14557.877\n",
      "185600/207603\tLoss: 14622.720\n",
      "192000/207603\tLoss: 14507.056\n",
      "198400/207603\tLoss: 14553.922\n",
      "204800/207603\tLoss: 14557.585\n",
      "Epoch: 17 Average loss: 14553.34\n",
      "0/207603\tLoss: 14743.458\n",
      "6400/207603\tLoss: 14498.539\n",
      "12800/207603\tLoss: 14432.044\n",
      "19200/207603\tLoss: 14561.657\n",
      "25600/207603\tLoss: 14570.840\n",
      "32000/207603\tLoss: 14504.981\n",
      "38400/207603\tLoss: 14578.130\n",
      "44800/207603\tLoss: 14626.801\n",
      "51200/207603\tLoss: 14522.109\n",
      "57600/207603\tLoss: 14501.386\n",
      "64000/207603\tLoss: 14525.265\n",
      "70400/207603\tLoss: 14485.144\n"
     ]
    }
   ],
   "source": [
    "# Note this should be at least 100 epochs for proper training or more but can be less to demo\n",
    "\n",
    "trainer.train(train_loader, epochs=68, save_training_gif=None)"
   ]
  },
  {
   "cell_type": "code",
   "execution_count": null,
   "metadata": {},
   "outputs": [],
   "source": [
    "print('Done Training')"
   ]
  },
  {
   "cell_type": "code",
   "execution_count": null,
   "metadata": {},
   "outputs": [],
   "source": [
    "print(\"Testing system\")"
   ]
  },
  {
   "cell_type": "code",
   "execution_count": null,
   "metadata": {},
   "outputs": [],
   "source": [
    "save_image_path = \"sample_images/305/256\"\n",
    "model_name = \"cj2_e68_b128_c20d10-10-10_cmax6_gam36\""
   ]
  },
  {
   "cell_type": "markdown",
   "metadata": {},
   "source": [
    "### Visualize"
   ]
  },
  {
   "cell_type": "code",
   "execution_count": null,
   "metadata": {},
   "outputs": [],
   "source": [
    "# Plot reconstructions\n",
    "%matplotlib inline\n",
    "import matplotlib.pyplot as plt\n",
    "import matplotlib.image as mpimg\n",
    "\n",
    "# Get a batch of data\n",
    "for batch, labels in test_loader:\n",
    "    break\n",
    "\n",
    "# Reconstruct data using Joint-VAE model\n",
    "recon = viz.reconstructions(batch)\n",
    "\n",
    "plt.figure(figsize=(26,26))\n",
    "plt.imshow(np.rot90(np.transpose(recon.numpy(),(2,1,0)),k=3));\n",
    "plt.savefig(save_image_path + model_name + \"_reconstructions.png\",dpi=200)"
   ]
  },
  {
   "cell_type": "code",
   "execution_count": null,
   "metadata": {},
   "outputs": [],
   "source": [
    "# Plot samples\n",
    "samples = viz.samples()\n",
    "\n",
    "plt.figure(figsize=(26,26))\n",
    "plt.imshow(np.rot90(np.transpose(samples.numpy(),(2,1,0)),k=3));\n",
    "plt.savefig(save_image_path + model_name + \"_samples.png\",dpi=200)"
   ]
  },
  {
   "cell_type": "markdown",
   "metadata": {},
   "source": [
    "### Note on Traversals"
   ]
  },
  {
   "cell_type": "code",
   "execution_count": null,
   "metadata": {},
   "outputs": [],
   "source": []
  },
  {
   "cell_type": "markdown",
   "metadata": {},
   "source": [
    "### Traverses all latent dimensions one by one and plots a grid of images where each row corresponds to a latent traversal of one latent dimension\n",
    "* size: Number of samples for each latent traversal."
   ]
  },
  {
   "cell_type": "code",
   "execution_count": 76,
   "metadata": {},
   "outputs": [
    {
     "name": "stdout",
     "output_type": "stream",
     "text": [
      "20 3\n"
     ]
    }
   ],
   "source": [
    "print(viz.model.latent_cont_dim, viz.model.num_disc_latents)"
   ]
  },
  {
   "cell_type": "code",
   "execution_count": null,
   "metadata": {},
   "outputs": [],
   "source": [
    "# Plot all traversals\n",
    "traversals = viz.all_latent_traversals(size=20)\n",
    "\n",
    "plt.figure(figsize=(20,20))\n",
    "plt.imshow(np.rot90(np.transpose(traversals.numpy(),(2,1,0)),k=3));\n",
    "plt.savefig(save_image_path + model_name + \"_all_traversals_n20.png\",dpi=200)"
   ]
  },
  {
   "cell_type": "code",
   "execution_count": null,
   "metadata": {},
   "outputs": [],
   "source": [
    "# Plot a grid of some traversals\n",
    "traversals = viz.latent_traversal_grid(cont_idx=2, cont_axis=1, disc_idx=0, disc_axis=0, size=(10, 10))\n",
    "\n",
    "plt.figure(figsize=(20,20))\n",
    "plt.imshow(np.rot90(np.transpose(traversals.numpy(),(2,1,0)),k=3));\n",
    "plt.savefig(save_image_path + model_name + \"_traversals2100.png\",dpi=200)"
   ]
  },
  {
   "cell_type": "code",
   "execution_count": null,
   "metadata": {},
   "outputs": [],
   "source": [
    "# Plot a grid of some traversals\n",
    "traversals = viz.latent_traversal_grid(cont_idx=1, cont_axis=1, disc_idx=0, disc_axis=0, size=(10, 10))\n",
    "\n",
    "plt.figure(figsize=(20,20))\n",
    "plt.imshow(traversals.numpy()[0, :, :]);\n",
    "plt.imshow(np.rot90(np.transpose(traversals.numpy(),(2,1,0)),k=3));\n",
    "plt.savefig(save_image_path + model_name + \"_traversals1100.png\",dpi=200)"
   ]
  },
  {
   "cell_type": "code",
   "execution_count": null,
   "metadata": {},
   "outputs": [],
   "source": [
    "# Plot a grid of some traversals\n",
    "traversals = viz.latent_traversal_grid(cont_idx=9, cont_axis=1, disc_idx=0, disc_axis=0, size=(10, 10))\n",
    "\n",
    "plt.figure(figsize=(20,20))\n",
    "plt.imshow(np.rot90(np.transpose(traversals.numpy(),(2,1,0)),k=3));\n",
    "plt.savefig(save_image_path + model_name + \"_traversals9100.png\",dpi=200)"
   ]
  },
  {
   "cell_type": "code",
   "execution_count": null,
   "metadata": {},
   "outputs": [],
   "source": [
    "# Plot a grid of some traversals\n",
    "traversals = viz.latent_traversal_grid(cont_idx=2, cont_axis=1, disc_idx=0, disc_axis=1, size=(10, 10))\n",
    "\n",
    "plt.figure(figsize=(20,20))\n",
    "plt.imshow(np.rot90(np.transpose(traversals.numpy(),(2,1,0)),k=3));\n",
    "plt.savefig(save_image_path + model_name + \"_traversals2101.png\",dpi=200)"
   ]
  },
  {
   "cell_type": "code",
   "execution_count": null,
   "metadata": {},
   "outputs": [],
   "source": [
    "# Plot a grid of some traversals\n",
    "traversals = viz.latent_traversal_grid(cont_idx=2, cont_axis=0, disc_idx=0, disc_axis=1, size=(10, 10))\n",
    "\n",
    "plt.figure(figsize=(20,20))\n",
    "plt.imshow(np.rot90(np.transpose(traversals.numpy(),(2,1,0)),k=3));\n",
    "plt.savefig(save_image_path + model_name + \"_traversals2001.png\",dpi=200)"
   ]
  },
  {
   "cell_type": "code",
   "execution_count": null,
   "metadata": {},
   "outputs": [],
   "source": [
    "# Plot a grid of some traversals\n",
    "traversals = viz.latent_traversal_grid(cont_idx=3, cont_axis=0, disc_idx=0, disc_axis=0, size=(10, 10))\n",
    "\n",
    "plt.figure(figsize=(20,20))\n",
    "plt.imshow(np.rot90(np.transpose(traversals.numpy(),(2,1,0)),k=3));\n",
    "plt.savefig(save_image_path + model_name + \"_traversals3000.png\",dpi=200)"
   ]
  },
  {
   "cell_type": "code",
   "execution_count": null,
   "metadata": {},
   "outputs": [],
   "source": [
    "# Plot a grid of some traversals\n",
    "traversals = viz.latent_traversal_grid(cont_idx=12, cont_axis=0, disc_idx=0, disc_axis=0, size=(10, 10))\n",
    "\n",
    "plt.figure(figsize=(20,20))\n",
    "plt.imshow(np.rot90(np.transpose(traversals.numpy(),(2,1,0)),k=3));\n",
    "plt.savefig(save_image_path + model_name + \"_traversals3000.png\",dpi=200)"
   ]
  },
  {
   "cell_type": "code",
   "execution_count": 93,
   "metadata": {},
   "outputs": [
    {
     "data": {
      "image/png": "[encoded data removed]",
      "text/plain": [
       "<Figure size 1440x1440 with 1 Axes>"
      ]
     },
     "metadata": {
      "needs_background": "light"
     },
     "output_type": "display_data"
    }
   ],
   "source": [
    "# Plot a grid of some traversals\n",
    "traversals = viz2.latent_traversal_grid2(cont_idx=3, cont_axis=0, disc_idx=0, disc_axis=0, size=(20, 20),first_n=10)\n",
    "\n",
    "plt.figure(figsize=(20,20))\n",
    "plt.imshow(np.rot90(np.transpose(traversals.numpy(),(2,1,0)),k=3));\n",
    "#plt.savefig(\"sample_images/306/256/cj1_256_e50maybe_b64_c10d10-10-10_gam30_traversals3000.png\",dpi=200)"
   ]
  },
  {
   "cell_type": "code",
   "execution_count": null,
   "metadata": {},
   "outputs": [],
   "source": [
    "!ls"
   ]
  },
  {
   "cell_type": "markdown",
   "metadata": {},
   "source": [
    "### Save Model"
   ]
  },
  {
   "cell_type": "code",
   "execution_count": null,
   "metadata": {},
   "outputs": [],
   "source": [
    "torch.save(model.state_dict(),\"trained_models/\" + \"statedict_\" + model_name) # save state dict\n",
    "#torch.save(model, model_name) # save full model"
   ]
  },
  {
   "cell_type": "code",
   "execution_count": null,
   "metadata": {},
   "outputs": [],
   "source": [
    "print(\"Done training: \",model_name)"
   ]
  },
  {
   "cell_type": "markdown",
   "metadata": {},
   "source": [
    "#### Restore Model from State Dict"
   ]
  },
  {
   "cell_type": "code",
   "execution_count": null,
   "metadata": {
    "scrolled": true
   },
   "outputs": [],
   "source": [
    "sd_model = VAE(latent_spec=latent_spec, img_size=(3, 64, 64))\n",
    "sd_model.load_state_dict(torch.load(\"statedict_\" + model_name))"
   ]
  },
  {
   "cell_type": "markdown",
   "metadata": {},
   "source": [
    "#### Restore Full Model\n",
    "* Note in this case the serialized data is bound to the specific classes and exact directory strucutre used."
   ]
  },
  {
   "cell_type": "code",
   "execution_count": null,
   "metadata": {},
   "outputs": [],
   "source": [
    "full_model = torch.load(model_name)"
   ]
  },
  {
   "cell_type": "code",
   "execution_count": null,
   "metadata": {},
   "outputs": [],
   "source": [
    "type(full_model)"
   ]
  },
  {
   "cell_type": "code",
   "execution_count": null,
   "metadata": {},
   "outputs": [],
   "source": [
    "type(sd_model)"
   ]
  },
  {
   "cell_type": "code",
   "execution_count": null,
   "metadata": {},
   "outputs": [],
   "source": [
    "!ls"
   ]
  },
  {
   "cell_type": "code",
   "execution_count": null,
   "metadata": {},
   "outputs": [],
   "source": []
  }
 ],
 "metadata": {
  "kernelspec": {
   "display_name": "Python 3",
   "language": "python",
   "name": "python3"
  },
  "language_info": {
   "codemirror_mode": {
    "name": "ipython",
    "version": 3
   },
   "file_extension": ".py",
   "mimetype": "text/x-python",
   "name": "python",
   "nbconvert_exporter": "python",
   "pygments_lexer": "ipython3",
   "version": "3.6.3"
  }
 },
 "nbformat": 4,
 "nbformat_minor": 2
}
